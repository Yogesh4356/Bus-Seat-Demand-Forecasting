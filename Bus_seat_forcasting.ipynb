{
  "nbformat": 4,
  "nbformat_minor": 0,
  "metadata": {
    "colab": {
      "provenance": []
    },
    "kernelspec": {
      "name": "python3",
      "display_name": "Python 3"
    },
    "language_info": {
      "name": "python"
    }
  },
  "cells": [
    {
      "cell_type": "code",
      "execution_count": 1,
      "metadata": {
        "id": "3gwxcFbp5zbz",
        "colab": {
          "base_uri": "https://localhost:8080/"
        },
        "outputId": "99f6418d-4941-4841-947b-7e33d85bcaa3"
      },
      "outputs": [
        {
          "output_type": "stream",
          "name": "stdout",
          "text": [
            "Drive already mounted at /content/drive; to attempt to forcibly remount, call drive.mount(\"/content/drive\", force_remount=True).\n"
          ]
        }
      ],
      "source": [
        "from google.colab import drive\n",
        "drive.mount('/content/drive')"
      ]
    },
    {
      "cell_type": "code",
      "source": [
        "import pandas as pd\n",
        "train_df = pd.read_csv('/content/drive/My Drive/Analytics_Vidhya/train.csv')\n",
        "test_df = pd.read_csv('/content/drive/My Drive/Analytics_Vidhya/test.csv')\n",
        "transaction_df = pd.read_csv('/content/drive/My Drive/Analytics_Vidhya/transactions.csv')"
      ],
      "metadata": {
        "id": "wwpfR09-8Yfh"
      },
      "execution_count": 2,
      "outputs": []
    },
    {
      "cell_type": "code",
      "source": [
        "print(train_df.shape)\n",
        "print(test_df.shape)\n",
        "print(transaction_df.shape)"
      ],
      "metadata": {
        "id": "0dRwCyXk-WZR",
        "outputId": "2ec430c5-ed4a-40ec-b9d4-bef341aa47fc",
        "colab": {
          "base_uri": "https://localhost:8080/"
        }
      },
      "execution_count": 6,
      "outputs": [
        {
          "output_type": "stream",
          "name": "stdout",
          "text": [
            "(67200, 4)\n",
            "(5900, 5)\n",
            "(2266100, 11)\n"
          ]
        }
      ]
    },
    {
      "cell_type": "code",
      "source": [
        "import numpy as np\n",
        "\n",
        "# Only keep needed dbd\n",
        "seq_dbd = list(range(1, 16))\n",
        "transactions_filt = transaction_df[transaction_df['dbd'].isin(seq_dbd)]\n",
        "\n",
        "# Prepare pivot table to quickly fetch historical values as columns\n",
        "pivot = transactions_filt.pivot_table(\n",
        "    index=['srcid', 'destid', 'doj'],\n",
        "    columns='dbd',\n",
        "    values=['cumsum_seatcount', 'cumsum_searchcount'],\n",
        "    fill_value=0\n",
        ")\n",
        "pivot.columns = [f\"{v}_dbd{dbd}\" for v, dbd in pivot.columns] # Flatten columns\n",
        "\n",
        "pivot.reset_index(inplace=True)\n",
        "\n",
        "df = pd.merge(train_df, pivot, how='left', on=['srcid', 'destid', 'doj'])\n",
        "# Collect feature columns in correct sequence order\n",
        "seq_cols = []\n",
        "for feat in ['cumsum_seatcount', 'cumsum_searchcount']:\n",
        "    seq_cols += [f\"{feat}_dbd{dbd}\" for dbd in range(15, 0, -1)]\n",
        "\n",
        "# Shape into 3D array for LSTM: (samples, timesteps, features)\n",
        "X_raw  = df[seq_cols].values.reshape(len(df), 15, 2)\n",
        "y = df['final_seatcount'].values"
      ],
      "metadata": {
        "id": "BqcQVsfjJZqg"
      },
      "execution_count": 7,
      "outputs": []
    },
    {
      "cell_type": "code",
      "source": [
        "from sklearn.model_selection import train_test_split\n",
        "\n",
        "X_train_raw, X_val_raw, y_train, y_val = train_test_split(\n",
        "    X_raw, y, test_size=0.2, shuffle=False\n",
        ")"
      ],
      "metadata": {
        "id": "M-ifC0Yp9AMi"
      },
      "execution_count": 8,
      "outputs": []
    },
    {
      "cell_type": "code",
      "source": [
        "from sklearn.preprocessing import StandardScaler\n",
        "\n",
        "scaler = StandardScaler()\n",
        "X_train_2d = X_train_raw.reshape(-1, X_train_raw.shape[2])\n",
        "X_val_2d = X_val_raw.reshape(-1, X_val_raw.shape[2])\n",
        "\n",
        "scaler.fit(X_train_2d)\n",
        "X_train_scaled = scaler.transform(X_train_2d).reshape(X_train_raw.shape)\n",
        "X_val_scaled = scaler.transform(X_val_2d).reshape(X_val_raw.shape)"
      ],
      "metadata": {
        "id": "iX3jtgm09P1D"
      },
      "execution_count": 9,
      "outputs": []
    },
    {
      "cell_type": "code",
      "source": [
        "from tensorflow.keras.models import Sequential\n",
        "from tensorflow.keras.layers import LSTM, Dense, Dropout\n",
        "import keras\n",
        "\n",
        "SEQUENCE_LENGTH = 15\n",
        "model = Sequential([\n",
        "    LSTM(50, input_shape=(SEQUENCE_LENGTH, 2), activation='relu', return_sequences=False),\n",
        "    Dropout(0.2),\n",
        "    Dense(1)  # Regression output\n",
        "])\n",
        "opt = keras.optimizers.Adam(learning_rate=0.001)\n",
        "\n",
        "model.compile(optimizer=opt, loss='mean_squared_error')"
      ],
      "metadata": {
        "colab": {
          "base_uri": "https://localhost:8080/"
        },
        "id": "bwt9lL8KJqb5",
        "outputId": "76ef3fdc-7cf2-4bf5-c441-74545b9849f2"
      },
      "execution_count": 10,
      "outputs": [
        {
          "output_type": "stream",
          "name": "stderr",
          "text": [
            "/usr/local/lib/python3.12/dist-packages/keras/src/layers/rnn/rnn.py:199: UserWarning: Do not pass an `input_shape`/`input_dim` argument to a layer. When using Sequential models, prefer using an `Input(shape)` object as the first layer in the model instead.\n",
            "  super().__init__(**kwargs)\n"
          ]
        }
      ]
    },
    {
      "cell_type": "code",
      "source": [
        "from keras.callbacks import ModelCheckpoint\n",
        "epochs = 30\n",
        "checkpointer = ModelCheckpoint(filepath='saved_models/weights.best.from_scratch_15.keras',\n",
        "                            verbose=1, save_best_only=True)\n",
        "\n",
        "history = model.fit(X_train_scaled, y_train, validation_data=(X_val_scaled, y_val), epochs=epochs, batch_size=32, callbacks=[checkpointer], verbose=1)\n",
        "print(\"Model training complete.\")"
      ],
      "metadata": {
        "colab": {
          "base_uri": "https://localhost:8080/"
        },
        "id": "0w-vn9sOG-Y_",
        "outputId": "c266cd4e-c9d6-4fd0-9354-be85204f0e6d"
      },
      "execution_count": 11,
      "outputs": [
        {
          "output_type": "stream",
          "name": "stdout",
          "text": [
            "Epoch 1/30\n",
            "\u001b[1m1674/1680\u001b[0m \u001b[32m━━━━━━━━━━━━━━━━━━━\u001b[0m\u001b[37m━\u001b[0m \u001b[1m0s\u001b[0m 8ms/step - loss: 1685979.2500\n",
            "Epoch 1: val_loss improved from inf to 802459.00000, saving model to saved_models/weights.best.from_scratch_15.keras\n",
            "\u001b[1m1680/1680\u001b[0m \u001b[32m━━━━━━━━━━━━━━━━━━━━\u001b[0m\u001b[37m\u001b[0m \u001b[1m17s\u001b[0m 9ms/step - loss: 1683407.2500 - val_loss: 802459.0000\n",
            "Epoch 2/30\n",
            "\u001b[1m1673/1680\u001b[0m \u001b[32m━━━━━━━━━━━━━━━━━━━\u001b[0m\u001b[37m━\u001b[0m \u001b[1m0s\u001b[0m 7ms/step - loss: 656908.7500\n",
            "Epoch 2: val_loss improved from 802459.00000 to 736201.31250, saving model to saved_models/weights.best.from_scratch_15.keras\n",
            "\u001b[1m1680/1680\u001b[0m \u001b[32m━━━━━━━━━━━━━━━━━━━━\u001b[0m\u001b[37m\u001b[0m \u001b[1m14s\u001b[0m 8ms/step - loss: 656819.3125 - val_loss: 736201.3125\n",
            "Epoch 3/30\n",
            "\u001b[1m1680/1680\u001b[0m \u001b[32m━━━━━━━━━━━━━━━━━━━━\u001b[0m\u001b[37m\u001b[0m \u001b[1m0s\u001b[0m 7ms/step - loss: 550799.3750\n",
            "Epoch 3: val_loss improved from 736201.31250 to 596698.06250, saving model to saved_models/weights.best.from_scratch_15.keras\n",
            "\u001b[1m1680/1680\u001b[0m \u001b[32m━━━━━━━━━━━━━━━━━━━━\u001b[0m\u001b[37m\u001b[0m \u001b[1m14s\u001b[0m 8ms/step - loss: 550803.3125 - val_loss: 596698.0625\n",
            "Epoch 4/30\n",
            "\u001b[1m1673/1680\u001b[0m \u001b[32m━━━━━━━━━━━━━━━━━━━\u001b[0m\u001b[37m━\u001b[0m \u001b[1m0s\u001b[0m 7ms/step - loss: 468572.6562\n",
            "Epoch 4: val_loss improved from 596698.06250 to 489972.71875, saving model to saved_models/weights.best.from_scratch_15.keras\n",
            "\u001b[1m1680/1680\u001b[0m \u001b[32m━━━━━━━━━━━━━━━━━━━━\u001b[0m\u001b[37m\u001b[0m \u001b[1m14s\u001b[0m 8ms/step - loss: 468507.1250 - val_loss: 489972.7188\n",
            "Epoch 5/30\n",
            "\u001b[1m1674/1680\u001b[0m \u001b[32m━━━━━━━━━━━━━━━━━━━\u001b[0m\u001b[37m━\u001b[0m \u001b[1m0s\u001b[0m 7ms/step - loss: 330751.4375\n",
            "Epoch 5: val_loss improved from 489972.71875 to 362992.46875, saving model to saved_models/weights.best.from_scratch_15.keras\n",
            "\u001b[1m1680/1680\u001b[0m \u001b[32m━━━━━━━━━━━━━━━━━━━━\u001b[0m\u001b[37m\u001b[0m \u001b[1m14s\u001b[0m 8ms/step - loss: 330662.5938 - val_loss: 362992.4688\n",
            "Epoch 6/30\n",
            "\u001b[1m1673/1680\u001b[0m \u001b[32m━━━━━━━━━━━━━━━━━━━\u001b[0m\u001b[37m━\u001b[0m \u001b[1m0s\u001b[0m 7ms/step - loss: 271701.1250\n",
            "Epoch 6: val_loss improved from 362992.46875 to 352444.18750, saving model to saved_models/weights.best.from_scratch_15.keras\n",
            "\u001b[1m1680/1680\u001b[0m \u001b[32m━━━━━━━━━━━━━━━━━━━━\u001b[0m\u001b[37m\u001b[0m \u001b[1m14s\u001b[0m 8ms/step - loss: 271633.5000 - val_loss: 352444.1875\n",
            "Epoch 7/30\n",
            "\u001b[1m1678/1680\u001b[0m \u001b[32m━━━━━━━━━━━━━━━━━━━\u001b[0m\u001b[37m━\u001b[0m \u001b[1m0s\u001b[0m 8ms/step - loss: 226887.3438\n",
            "Epoch 7: val_loss improved from 352444.18750 to 259866.06250, saving model to saved_models/weights.best.from_scratch_15.keras\n",
            "\u001b[1m1680/1680\u001b[0m \u001b[32m━━━━━━━━━━━━━━━━━━━━\u001b[0m\u001b[37m\u001b[0m \u001b[1m23s\u001b[0m 10ms/step - loss: 226886.4062 - val_loss: 259866.0625\n",
            "Epoch 8/30\n",
            "\u001b[1m1676/1680\u001b[0m \u001b[32m━━━━━━━━━━━━━━━━━━━\u001b[0m\u001b[37m━\u001b[0m \u001b[1m0s\u001b[0m 7ms/step - loss: 284329.3750\n",
            "Epoch 8: val_loss did not improve from 259866.06250\n",
            "\u001b[1m1680/1680\u001b[0m \u001b[32m━━━━━━━━━━━━━━━━━━━━\u001b[0m\u001b[37m\u001b[0m \u001b[1m14s\u001b[0m 8ms/step - loss: 284349.0312 - val_loss: 267734.8125\n",
            "Epoch 9/30\n",
            "\u001b[1m1679/1680\u001b[0m \u001b[32m━━━━━━━━━━━━━━━━━━━\u001b[0m\u001b[37m━\u001b[0m \u001b[1m0s\u001b[0m 7ms/step - loss: 212822.1562\n",
            "Epoch 9: val_loss improved from 259866.06250 to 238627.79688, saving model to saved_models/weights.best.from_scratch_15.keras\n",
            "\u001b[1m1680/1680\u001b[0m \u001b[32m━━━━━━━━━━━━━━━━━━━━\u001b[0m\u001b[37m\u001b[0m \u001b[1m15s\u001b[0m 9ms/step - loss: 212829.3594 - val_loss: 238627.7969\n",
            "Epoch 10/30\n",
            "\u001b[1m1676/1680\u001b[0m \u001b[32m━━━━━━━━━━━━━━━━━━━\u001b[0m\u001b[37m━\u001b[0m \u001b[1m0s\u001b[0m 7ms/step - loss: 208584.3125\n",
            "Epoch 10: val_loss did not improve from 238627.79688\n",
            "\u001b[1m1680/1680\u001b[0m \u001b[32m━━━━━━━━━━━━━━━━━━━━\u001b[0m\u001b[37m\u001b[0m \u001b[1m14s\u001b[0m 8ms/step - loss: 208590.9844 - val_loss: 322020.0000\n",
            "Epoch 11/30\n",
            "\u001b[1m1676/1680\u001b[0m \u001b[32m━━━━━━━━━━━━━━━━━━━\u001b[0m\u001b[37m━\u001b[0m \u001b[1m0s\u001b[0m 7ms/step - loss: 206658.1406\n",
            "Epoch 11: val_loss did not improve from 238627.79688\n",
            "\u001b[1m1680/1680\u001b[0m \u001b[32m━━━━━━━━━━━━━━━━━━━━\u001b[0m\u001b[37m\u001b[0m \u001b[1m15s\u001b[0m 9ms/step - loss: 206669.1406 - val_loss: 243869.5625\n",
            "Epoch 12/30\n",
            "\u001b[1m1678/1680\u001b[0m \u001b[32m━━━━━━━━━━━━━━━━━━━\u001b[0m\u001b[37m━\u001b[0m \u001b[1m0s\u001b[0m 7ms/step - loss: 199265.8906\n",
            "Epoch 12: val_loss improved from 238627.79688 to 226035.06250, saving model to saved_models/weights.best.from_scratch_15.keras\n",
            "\u001b[1m1680/1680\u001b[0m \u001b[32m━━━━━━━━━━━━━━━━━━━━\u001b[0m\u001b[37m\u001b[0m \u001b[1m14s\u001b[0m 8ms/step - loss: 199278.0625 - val_loss: 226035.0625\n",
            "Epoch 13/30\n",
            "\u001b[1m1679/1680\u001b[0m \u001b[32m━━━━━━━━━━━━━━━━━━━\u001b[0m\u001b[37m━\u001b[0m \u001b[1m0s\u001b[0m 7ms/step - loss: 207255.7969\n",
            "Epoch 13: val_loss did not improve from 226035.06250\n",
            "\u001b[1m1680/1680\u001b[0m \u001b[32m━━━━━━━━━━━━━━━━━━━━\u001b[0m\u001b[37m\u001b[0m \u001b[1m15s\u001b[0m 9ms/step - loss: 207254.7344 - val_loss: 249150.7500\n",
            "Epoch 14/30\n",
            "\u001b[1m1678/1680\u001b[0m \u001b[32m━━━━━━━━━━━━━━━━━━━\u001b[0m\u001b[37m━\u001b[0m \u001b[1m0s\u001b[0m 7ms/step - loss: 204035.8125\n",
            "Epoch 14: val_loss did not improve from 226035.06250\n",
            "\u001b[1m1680/1680\u001b[0m \u001b[32m━━━━━━━━━━━━━━━━━━━━\u001b[0m\u001b[37m\u001b[0m \u001b[1m15s\u001b[0m 9ms/step - loss: 204040.5312 - val_loss: 310659.7188\n",
            "Epoch 15/30\n",
            "\u001b[1m1674/1680\u001b[0m \u001b[32m━━━━━━━━━━━━━━━━━━━\u001b[0m\u001b[37m━\u001b[0m \u001b[1m0s\u001b[0m 8ms/step - loss: 204593.0156\n",
            "Epoch 15: val_loss did not improve from 226035.06250\n",
            "\u001b[1m1680/1680\u001b[0m \u001b[32m━━━━━━━━━━━━━━━━━━━━\u001b[0m\u001b[37m\u001b[0m \u001b[1m15s\u001b[0m 9ms/step - loss: 204580.8281 - val_loss: 325696.7188\n",
            "Epoch 16/30\n",
            "\u001b[1m1676/1680\u001b[0m \u001b[32m━━━━━━━━━━━━━━━━━━━\u001b[0m\u001b[37m━\u001b[0m \u001b[1m0s\u001b[0m 8ms/step - loss: 199777.7031\n",
            "Epoch 16: val_loss did not improve from 226035.06250\n",
            "\u001b[1m1680/1680\u001b[0m \u001b[32m━━━━━━━━━━━━━━━━━━━━\u001b[0m\u001b[37m\u001b[0m \u001b[1m19s\u001b[0m 8ms/step - loss: 199786.7344 - val_loss: 229152.8594\n",
            "Epoch 17/30\n",
            "\u001b[1m1677/1680\u001b[0m \u001b[32m━━━━━━━━━━━━━━━━━━━\u001b[0m\u001b[37m━\u001b[0m \u001b[1m0s\u001b[0m 8ms/step - loss: 200206.9062\n",
            "Epoch 17: val_loss improved from 226035.06250 to 222908.95312, saving model to saved_models/weights.best.from_scratch_15.keras\n",
            "\u001b[1m1680/1680\u001b[0m \u001b[32m━━━━━━━━━━━━━━━━━━━━\u001b[0m\u001b[37m\u001b[0m \u001b[1m21s\u001b[0m 8ms/step - loss: 200200.2031 - val_loss: 222908.9531\n",
            "Epoch 18/30\n",
            "\u001b[1m1679/1680\u001b[0m \u001b[32m━━━━━━━━━━━━━━━━━━━\u001b[0m\u001b[37m━\u001b[0m \u001b[1m0s\u001b[0m 8ms/step - loss: 196160.4375\n",
            "Epoch 18: val_loss did not improve from 222908.95312\n",
            "\u001b[1m1680/1680\u001b[0m \u001b[32m━━━━━━━━━━━━━━━━━━━━\u001b[0m\u001b[37m\u001b[0m \u001b[1m16s\u001b[0m 9ms/step - loss: 196161.0000 - val_loss: 383869.5000\n",
            "Epoch 19/30\n",
            "\u001b[1m1677/1680\u001b[0m \u001b[32m━━━━━━━━━━━━━━━━━━━\u001b[0m\u001b[37m━\u001b[0m \u001b[1m0s\u001b[0m 8ms/step - loss: 199060.3281\n",
            "Epoch 19: val_loss did not improve from 222908.95312\n",
            "\u001b[1m1680/1680\u001b[0m \u001b[32m━━━━━━━━━━━━━━━━━━━━\u001b[0m\u001b[37m\u001b[0m \u001b[1m14s\u001b[0m 8ms/step - loss: 199053.5781 - val_loss: 319823.8438\n",
            "Epoch 20/30\n",
            "\u001b[1m1677/1680\u001b[0m \u001b[32m━━━━━━━━━━━━━━━━━━━\u001b[0m\u001b[37m━\u001b[0m \u001b[1m0s\u001b[0m 8ms/step - loss: 202205.4375\n",
            "Epoch 20: val_loss did not improve from 222908.95312\n",
            "\u001b[1m1680/1680\u001b[0m \u001b[32m━━━━━━━━━━━━━━━━━━━━\u001b[0m\u001b[37m\u001b[0m \u001b[1m14s\u001b[0m 8ms/step - loss: 202206.5156 - val_loss: 286176.8750\n",
            "Epoch 21/30\n",
            "\u001b[1m1680/1680\u001b[0m \u001b[32m━━━━━━━━━━━━━━━━━━━━\u001b[0m\u001b[37m\u001b[0m \u001b[1m0s\u001b[0m 8ms/step - loss: 193508.4844\n",
            "Epoch 21: val_loss did not improve from 222908.95312\n",
            "\u001b[1m1680/1680\u001b[0m \u001b[32m━━━━━━━━━━━━━━━━━━━━\u001b[0m\u001b[37m\u001b[0m \u001b[1m14s\u001b[0m 8ms/step - loss: 193509.2500 - val_loss: 227509.5781\n",
            "Epoch 22/30\n",
            "\u001b[1m1676/1680\u001b[0m \u001b[32m━━━━━━━━━━━━━━━━━━━\u001b[0m\u001b[37m━\u001b[0m \u001b[1m0s\u001b[0m 8ms/step - loss: 203692.4531\n",
            "Epoch 22: val_loss improved from 222908.95312 to 203013.98438, saving model to saved_models/weights.best.from_scratch_15.keras\n",
            "\u001b[1m1680/1680\u001b[0m \u001b[32m━━━━━━━━━━━━━━━━━━━━\u001b[0m\u001b[37m\u001b[0m \u001b[1m14s\u001b[0m 8ms/step - loss: 203685.7969 - val_loss: 203013.9844\n",
            "Epoch 23/30\n",
            "\u001b[1m1680/1680\u001b[0m \u001b[32m━━━━━━━━━━━━━━━━━━━━\u001b[0m\u001b[37m\u001b[0m \u001b[1m0s\u001b[0m 8ms/step - loss: 195877.8906\n",
            "Epoch 23: val_loss did not improve from 203013.98438\n",
            "\u001b[1m1680/1680\u001b[0m \u001b[32m━━━━━━━━━━━━━━━━━━━━\u001b[0m\u001b[37m\u001b[0m \u001b[1m14s\u001b[0m 8ms/step - loss: 195876.3125 - val_loss: 283762.5625\n",
            "Epoch 24/30\n",
            "\u001b[1m1673/1680\u001b[0m \u001b[32m━━━━━━━━━━━━━━━━━━━\u001b[0m\u001b[37m━\u001b[0m \u001b[1m0s\u001b[0m 7ms/step - loss: 193658.9062\n",
            "Epoch 24: val_loss did not improve from 203013.98438\n",
            "\u001b[1m1680/1680\u001b[0m \u001b[32m━━━━━━━━━━━━━━━━━━━━\u001b[0m\u001b[37m\u001b[0m \u001b[1m14s\u001b[0m 8ms/step - loss: 193672.4062 - val_loss: 239498.1719\n",
            "Epoch 25/30\n",
            "\u001b[1m1680/1680\u001b[0m \u001b[32m━━━━━━━━━━━━━━━━━━━━\u001b[0m\u001b[37m\u001b[0m \u001b[1m0s\u001b[0m 8ms/step - loss: 192141.5469\n",
            "Epoch 25: val_loss did not improve from 203013.98438\n",
            "\u001b[1m1680/1680\u001b[0m \u001b[32m━━━━━━━━━━━━━━━━━━━━\u001b[0m\u001b[37m\u001b[0m \u001b[1m14s\u001b[0m 8ms/step - loss: 192142.1094 - val_loss: 213583.6250\n",
            "Epoch 26/30\n",
            "\u001b[1m1675/1680\u001b[0m \u001b[32m━━━━━━━━━━━━━━━━━━━\u001b[0m\u001b[37m━\u001b[0m \u001b[1m0s\u001b[0m 7ms/step - loss: 197781.2812\n",
            "Epoch 26: val_loss did not improve from 203013.98438\n",
            "\u001b[1m1680/1680\u001b[0m \u001b[32m━━━━━━━━━━━━━━━━━━━━\u001b[0m\u001b[37m\u001b[0m \u001b[1m21s\u001b[0m 8ms/step - loss: 197791.7656 - val_loss: 219573.2812\n",
            "Epoch 27/30\n",
            "\u001b[1m1675/1680\u001b[0m \u001b[32m━━━━━━━━━━━━━━━━━━━\u001b[0m\u001b[37m━\u001b[0m \u001b[1m0s\u001b[0m 7ms/step - loss: 203804.2969\n",
            "Epoch 27: val_loss did not improve from 203013.98438\n",
            "\u001b[1m1680/1680\u001b[0m \u001b[32m━━━━━━━━━━━━━━━━━━━━\u001b[0m\u001b[37m\u001b[0m \u001b[1m14s\u001b[0m 8ms/step - loss: 203791.5000 - val_loss: 203533.1094\n",
            "Epoch 28/30\n",
            "\u001b[1m1677/1680\u001b[0m \u001b[32m━━━━━━━━━━━━━━━━━━━\u001b[0m\u001b[37m━\u001b[0m \u001b[1m0s\u001b[0m 7ms/step - loss: 202608.6719\n",
            "Epoch 28: val_loss did not improve from 203013.98438\n",
            "\u001b[1m1680/1680\u001b[0m \u001b[32m━━━━━━━━━━━━━━━━━━━━\u001b[0m\u001b[37m\u001b[0m \u001b[1m14s\u001b[0m 8ms/step - loss: 202607.4531 - val_loss: 203444.5000\n",
            "Epoch 29/30\n",
            "\u001b[1m1679/1680\u001b[0m \u001b[32m━━━━━━━━━━━━━━━━━━━\u001b[0m\u001b[37m━\u001b[0m \u001b[1m0s\u001b[0m 8ms/step - loss: 193689.6250\n",
            "Epoch 29: val_loss did not improve from 203013.98438\n",
            "\u001b[1m1680/1680\u001b[0m \u001b[32m━━━━━━━━━━━━━━━━━━━━\u001b[0m\u001b[37m\u001b[0m \u001b[1m20s\u001b[0m 8ms/step - loss: 193692.6719 - val_loss: 243051.3906\n",
            "Epoch 30/30\n",
            "\u001b[1m1673/1680\u001b[0m \u001b[32m━━━━━━━━━━━━━━━━━━━\u001b[0m\u001b[37m━\u001b[0m \u001b[1m0s\u001b[0m 8ms/step - loss: 200834.0000\n",
            "Epoch 30: val_loss did not improve from 203013.98438\n",
            "\u001b[1m1680/1680\u001b[0m \u001b[32m━━━━━━━━━━━━━━━━━━━━\u001b[0m\u001b[37m\u001b[0m \u001b[1m14s\u001b[0m 8ms/step - loss: 200844.9062 - val_loss: 216397.5000\n",
            "Model training complete.\n"
          ]
        }
      ]
    },
    {
      "cell_type": "code",
      "source": [
        "model.load_weights('saved_models/weights.best.from_scratch_15.keras')\n",
        "import matplotlib.pyplot as plt\n",
        "\n",
        "loss = history.history['loss']\n",
        "val_loss = history.history['val_loss']\n",
        "\n",
        "epochs = range(epochs)\n",
        "plt.figure()\n",
        "\n",
        "plt.plot(epochs, loss, 'b', label='Training loss')\n",
        "plt.plot(epochs, val_loss, 'r', label='Validation loss')\n",
        "plt.title('Training and validation loss')\n",
        "plt.legend()\n",
        "\n",
        "plt.show()"
      ],
      "metadata": {
        "colab": {
          "base_uri": "https://localhost:8080/",
          "height": 452
        },
        "id": "8xyZ4IJy5ujK",
        "outputId": "6572cc12-da8d-477e-e906-c1f30c3a6faf"
      },
      "execution_count": 12,
      "outputs": [
        {
          "output_type": "display_data",
          "data": {
            "text/plain": [
              "<Figure size 640x480 with 1 Axes>"
            ],
            "image/png": "[encoded data removed]"
          },
          "metadata": {}
        }
      ]
    },
    {
      "cell_type": "code",
      "source": [
        "## Test data transformation\n",
        "seq_dbd = list(range(1, 16))\n",
        "transactions_filt = transaction_df[transaction_df['dbd'].isin(seq_dbd)]\n",
        "\n",
        "# Prepare pivot table to quickly fetch historical values as columns\n",
        "pivot = transactions_filt.pivot_table(\n",
        "    index=['srcid', 'destid', 'doj'],\n",
        "    columns='dbd',\n",
        "    values=['cumsum_seatcount', 'cumsum_searchcount'],\n",
        "    fill_value=0\n",
        ")\n",
        "pivot.columns = [f\"{v}_dbd{dbd}\" for v, dbd in pivot.columns] # Flatten columns\n",
        "\n",
        "pivot.reset_index(inplace=True)\n",
        "\n",
        "df_test = pd.merge(test_df, pivot, how='left', on=['srcid', 'destid', 'doj'])\n",
        "# Collect feature columns in correct sequence order\n",
        "seq_cols = []\n",
        "for feat in ['cumsum_seatcount', 'cumsum_searchcount']:\n",
        "    seq_cols += [f\"{feat}_dbd{dbd}\" for dbd in range(15, 0, -1)]\n",
        "\n",
        "# Shape into 3D array for LSTM: (samples, timesteps, features)\n",
        "X_raw_test  = df_test[seq_cols].values.reshape(len(df_test), 15, 2)\n",
        "y_test = df_test['final_seatcount'].values\n",
        "X_test_2d = X_raw_test.reshape(-1, X_raw_test.shape[2])\n",
        "X_test_scaled = scaler.transform(X_test_2d).reshape(X_raw_test.shape)"
      ],
      "metadata": {
        "id": "cqNlPDqHQS21"
      },
      "execution_count": 13,
      "outputs": []
    },
    {
      "cell_type": "code",
      "source": [
        "from sklearn.metrics import mean_squared_error\n",
        "\n",
        "# Make predictions on training and validation data\n",
        "y_train_pred = model.predict(X_train_scaled)\n",
        "y_val_pred = model.predict(X_val_scaled)\n",
        "\n",
        "# Calculate RMSE\n",
        "train_rmse = np.sqrt(mean_squared_error(y_train, y_train_pred))\n",
        "val_rmse = np.sqrt(mean_squared_error(y_val, y_val_pred))\n",
        "\n",
        "# Calculate Normalized RMSE\n",
        "normalized_rmse_train = train_rmse / np.mean(y_train)\n",
        "normalized_rmse_valid = val_rmse / np.mean(y_val)\n",
        "\n",
        "print(f\"Training RMSE: {train_rmse:.2f}\")\n",
        "print(f\"Validation RMSE: {val_rmse:.2f}\")\n",
        "print(f\"Training Normalized RMSE: {normalized_rmse_train:.2f}\")\n",
        "print(f\"Validation Normalized RMSE: {normalized_rmse_valid:.2f}\")"
      ],
      "metadata": {
        "colab": {
          "base_uri": "https://localhost:8080/"
        },
        "id": "ObV0lE8hAUcL",
        "outputId": "d4022213-fa07-4613-d839-a6787c2c60e8"
      },
      "execution_count": 28,
      "outputs": [
        {
          "output_type": "stream",
          "name": "stdout",
          "text": [
            "\u001b[1m1680/1680\u001b[0m \u001b[32m━━━━━━━━━━━━━━━━━━━━\u001b[0m\u001b[37m\u001b[0m \u001b[1m8s\u001b[0m 5ms/step\n",
            "\u001b[1m420/420\u001b[0m \u001b[32m━━━━━━━━━━━━━━━━━━━━\u001b[0m\u001b[37m\u001b[0m \u001b[1m1s\u001b[0m 3ms/step\n",
            "Training RMSE: 373.13\n",
            "Validation RMSE: 450.57\n",
            "Training Normalized RMSE: 0.19\n",
            "Validation Normalized RMSE: 0.20\n"
          ]
        }
      ]
    },
    {
      "cell_type": "code",
      "source": [
        "y_test_pred = model.predict(X_test_scaled)"
      ],
      "metadata": {
        "colab": {
          "base_uri": "https://localhost:8080/"
        },
        "id": "WMBzE35AezqO",
        "outputId": "d16010ae-52ba-40e6-cb7e-5968d3b5a415"
      },
      "execution_count": 29,
      "outputs": [
        {
          "output_type": "stream",
          "name": "stdout",
          "text": [
            "\u001b[1m185/185\u001b[0m \u001b[32m━━━━━━━━━━━━━━━━━━━━\u001b[0m\u001b[37m\u001b[0m \u001b[1m1s\u001b[0m 3ms/step\n"
          ]
        }
      ]
    },
    {
      "cell_type": "code",
      "source": [
        "# Calculate the relative RMSE for the y_test\n",
        "test_rmse = np.sqrt(mean_squared_error(y_test, y_test_pred))\n",
        "normalized_rmse_test = test_rmse / np.mean(y_test)\n",
        "\n",
        "print(f\"Test RMSE: {test_rmse:.2f}\")\n",
        "print(f\"Test Normalized RMSE: {normalized_rmse_test:.2f}\")"
      ],
      "metadata": {
        "colab": {
          "base_uri": "https://localhost:8080/"
        },
        "id": "-3eEqcOlRz9x",
        "outputId": "79f27701-3230-497c-f444-9f2cc0d8e2dd"
      },
      "execution_count": 30,
      "outputs": [
        {
          "output_type": "stream",
          "name": "stdout",
          "text": [
            "Test RMSE: 9.99\n",
            "Test Normalized RMSE: 0.17\n"
          ]
        }
      ]
    }
  ]
}